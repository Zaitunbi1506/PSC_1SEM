{
 "cells": [
  {
   "cell_type": "code",
   "execution_count": 2,
   "id": "7ce5d397-7e65-4f66-afee-05ed72339f4f",
   "metadata": {},
   "outputs": [
    {
     "data": {
      "text/plain": [
       "'Soha Shaikh'"
      ]
     },
     "execution_count": 2,
     "metadata": {},
     "output_type": "execute_result"
    }
   ],
   "source": [
    "name=\"Zaitunbi Shaikh\"\n",
    "name.replace(\"Zaitunbi\",\"Soha\")"
   ]
  },
  {
   "cell_type": "code",
   "execution_count": 3,
   "id": "d332f7da-81ea-44c9-a787-2c821168506f",
   "metadata": {},
   "outputs": [],
   "source": [
    "# try to give a defination of a string center function with and example"
   ]
  },
  {
   "cell_type": "code",
   "execution_count": 5,
   "id": "ae78d071-1813-49db-a261-444946196f86",
   "metadata": {},
   "outputs": [
    {
     "data": {
      "text/plain": [
       "'#################Zaitunbi Shaikh##################'"
      ]
     },
     "execution_count": 5,
     "metadata": {},
     "output_type": "execute_result"
    }
   ],
   "source": [
    "name.center(50,\"#\")"
   ]
  },
  {
   "cell_type": "code",
   "execution_count": 6,
   "id": "0881ae78-11db-44e7-8c26-62f7fe0fb882",
   "metadata": {},
   "outputs": [],
   "source": [
    "#The center() method will centerv align the string,using a specified character as the fill character"
   ]
  },
  {
   "cell_type": "code",
   "execution_count": 7,
   "id": "b20ffbec-d2d5-4ad8-9926-31ceced2848a",
   "metadata": {},
   "outputs": [],
   "source": [
    "#defination of complier and interpreter "
   ]
  },
  {
   "cell_type": "code",
   "execution_count": 8,
   "id": "0c8bf076-76c5-4ea8-ab05-2181fcad42b1",
   "metadata": {},
   "outputs": [],
   "source": [
    "#Complier-Translates source code into machine level language.\n",
    "#Interperter-It translates code line by line as the code runs."
   ]
  },
  {
   "cell_type": "code",
   "execution_count": 9,
   "id": "bb8c0e29-494c-4168-b276-88d8ae939cb8",
   "metadata": {},
   "outputs": [],
   "source": [
    "roll_no_56=\"Zaitunbi shaikh\""
   ]
  },
  {
   "cell_type": "code",
   "execution_count": 10,
   "id": "05b3253e-99bb-47c3-a001-5ccf083fa82e",
   "metadata": {},
   "outputs": [
    {
     "data": {
      "text/plain": [
       "'Zaitunbi shaikh'"
      ]
     },
     "execution_count": 10,
     "metadata": {},
     "output_type": "execute_result"
    }
   ],
   "source": [
    "roll_no_56"
   ]
  },
  {
   "cell_type": "code",
   "execution_count": 11,
   "id": "6a0913d2-3031-4c59-b48e-762796a48461",
   "metadata": {},
   "outputs": [
    {
     "ename": "SyntaxError",
     "evalue": "cannot assign to True (2637463725.py, line 1)",
     "output_type": "error",
     "traceback": [
      "\u001b[0;36m  Cell \u001b[0;32mIn[11], line 1\u001b[0;36m\u001b[0m\n\u001b[0;31m    True=\"ZAitunbi shaikh\"\u001b[0m\n\u001b[0m    ^\u001b[0m\n\u001b[0;31mSyntaxError\u001b[0m\u001b[0;31m:\u001b[0m cannot assign to True\n"
     ]
    }
   ],
   "source": [
    "True=\"ZAitunbi shaikh\""
   ]
  },
  {
   "cell_type": "code",
   "execution_count": 12,
   "id": "b691f39d-9629-4c64-b9a9-bf9de14e2133",
   "metadata": {},
   "outputs": [
    {
     "ename": "SyntaxError",
     "evalue": "invalid syntax (3418532778.py, line 1)",
     "output_type": "error",
     "traceback": [
      "\u001b[0;36m  Cell \u001b[0;32mIn[12], line 1\u001b[0;36m\u001b[0m\n\u001b[0;31m    na me=\"ZAitunbi shaikh\"\u001b[0m\n\u001b[0m       ^\u001b[0m\n\u001b[0;31mSyntaxError\u001b[0m\u001b[0;31m:\u001b[0m invalid syntax\n"
     ]
    }
   ],
   "source": [
    "na me=\"ZAitunbi shaikh\""
   ]
  },
  {
   "cell_type": "code",
   "execution_count": 13,
   "id": "43f3118c-6f0a-4091-a8e5-49851533a53f",
   "metadata": {},
   "outputs": [
    {
     "ename": "SyntaxError",
     "evalue": "invalid decimal literal (2602495726.py, line 1)",
     "output_type": "error",
     "traceback": [
      "\u001b[0;36m  Cell \u001b[0;32mIn[13], line 1\u001b[0;36m\u001b[0m\n\u001b[0;31m    23name=\"Soha Shaikh\"\u001b[0m\n\u001b[0m     ^\u001b[0m\n\u001b[0;31mSyntaxError\u001b[0m\u001b[0;31m:\u001b[0m invalid decimal literal\n"
     ]
    }
   ],
   "source": [
    "23name=\"Soha Shaikh\""
   ]
  },
  {
   "cell_type": "code",
   "execution_count": 23,
   "id": "10f90e7a-5495-4033-8a67-9bff76bab946",
   "metadata": {},
   "outputs": [],
   "source": [
    "a ,b ,c =23 ,67 ,45"
   ]
  },
  {
   "cell_type": "code",
   "execution_count": 15,
   "id": "94d7f12a-2bdf-4321-a1c6-efe1fdd63328",
   "metadata": {},
   "outputs": [
    {
     "data": {
      "text/plain": [
       "23"
      ]
     },
     "execution_count": 15,
     "metadata": {},
     "output_type": "execute_result"
    }
   ],
   "source": [
    "a"
   ]
  },
  {
   "cell_type": "code",
   "execution_count": 16,
   "id": "c0ad31ba-291c-4b71-a540-f224a0ea72ff",
   "metadata": {},
   "outputs": [
    {
     "data": {
      "text/plain": [
       "67"
      ]
     },
     "execution_count": 16,
     "metadata": {},
     "output_type": "execute_result"
    }
   ],
   "source": [
    "b"
   ]
  },
  {
   "cell_type": "code",
   "execution_count": 19,
   "id": "86ff5d16-c5d3-4fda-ac32-a753903c4610",
   "metadata": {},
   "outputs": [],
   "source": [
    "#Library functions"
   ]
  },
  {
   "cell_type": "code",
   "execution_count": 20,
   "id": "b53c030f-ffe2-4528-b559-641c50a6363e",
   "metadata": {},
   "outputs": [
    {
     "name": "stdout",
     "output_type": "stream",
     "text": [
      "Soha Shaikh\n"
     ]
    }
   ],
   "source": [
    "print(\"Soha Shaikh\")"
   ]
  },
  {
   "cell_type": "code",
   "execution_count": 21,
   "id": "8d83f9dd-141c-46ef-9285-6226ebeb9c49",
   "metadata": {},
   "outputs": [
    {
     "name": "stdout",
     "output_type": "stream",
     "text": [
      "23\n",
      "a\n"
     ]
    }
   ],
   "source": [
    "print(a)\n",
    "print(\"a\")"
   ]
  },
  {
   "cell_type": "code",
   "execution_count": 25,
   "id": "7f28fc90-546e-444c-a363-78e542a5e7ca",
   "metadata": {},
   "outputs": [
    {
     "name": "stdout",
     "output_type": "stream",
     "text": [
      "23 67 45\n"
     ]
    }
   ],
   "source": [
    "print(a,b,c)"
   ]
  },
  {
   "cell_type": "code",
   "execution_count": 28,
   "id": "fabcb621-ce1d-478d-90c1-3191a590e487",
   "metadata": {},
   "outputs": [
    {
     "name": "stdout",
     "output_type": "stream",
     "text": [
      "23            67            45\n"
     ]
    }
   ],
   "source": [
    "print(23,67,45,sep='            ')"
   ]
  },
  {
   "cell_type": "code",
   "execution_count": 29,
   "id": "b937d0f8-9b0a-42d5-903b-77b19e6acd1b",
   "metadata": {},
   "outputs": [
    {
     "data": {
      "text/plain": [
       "str"
      ]
     },
     "execution_count": 29,
     "metadata": {},
     "output_type": "execute_result"
    }
   ],
   "source": [
    "name=\"Zaitunbi Shaikh\"\n",
    "type(name)"
   ]
  },
  {
   "cell_type": "code",
   "execution_count": 32,
   "id": "1f58733f-b13e-4dbb-a04d-5b29cbb824d4",
   "metadata": {},
   "outputs": [
    {
     "data": {
      "text/plain": [
       "str"
      ]
     },
     "execution_count": 32,
     "metadata": {},
     "output_type": "execute_result"
    }
   ],
   "source": [
    "name1='Zaitunbi Shaikh'\n",
    "type(name1)"
   ]
  },
  {
   "cell_type": "code",
   "execution_count": 33,
   "id": "0483772f-9bfb-42f7-a075-75d44026ab4e",
   "metadata": {},
   "outputs": [],
   "source": [
    "name2=\"\"\"Zaitunbi Shaikh\"\"\""
   ]
  },
  {
   "cell_type": "code",
   "execution_count": 34,
   "id": "c2c92155-77e7-4393-a7e3-d1c0584414ba",
   "metadata": {},
   "outputs": [
    {
     "data": {
      "text/plain": [
       "str"
      ]
     },
     "execution_count": 34,
     "metadata": {},
     "output_type": "execute_result"
    }
   ],
   "source": [
    "type(name2)"
   ]
  },
  {
   "cell_type": "code",
   "execution_count": 42,
   "id": "00909f8e-1066-47ac-b0ec-a262a214cea3",
   "metadata": {},
   "outputs": [
    {
     "data": {
      "text/plain": [
       "str"
      ]
     },
     "execution_count": 42,
     "metadata": {},
     "output_type": "execute_result"
    }
   ],
   "source": [
    "name3='''''ZAitunbi Shaikh'''''\n",
    "type(name3)\n",
    "\n",
    "\n",
    "\n"
   ]
  },
  {
   "cell_type": "code",
   "execution_count": 44,
   "id": "7ba5da1f-e3d6-4f01-bc9b-cb53b782cea4",
   "metadata": {},
   "outputs": [
    {
     "name": "stdout",
     "output_type": "stream",
     "text": [
      "Sukruti Deshmukh\tZaitunbi Shaikh\n"
     ]
    }
   ],
   "source": [
    "print(\"Sukruti Deshmukh\",end='\\t')\n",
    "print(\"Zaitunbi Shaikh\")"
   ]
  },
  {
   "cell_type": "code",
   "execution_count": null,
   "id": "fcfc34e2-59d2-432a-800d-c6c5dbc385e3",
   "metadata": {},
   "outputs": [],
   "source": []
  }
 ],
 "metadata": {
  "kernelspec": {
   "display_name": "Python 3 (ipykernel)",
   "language": "python",
   "name": "python3"
  },
  "language_info": {
   "codemirror_mode": {
    "name": "ipython",
    "version": 3
   },
   "file_extension": ".py",
   "mimetype": "text/x-python",
   "name": "python",
   "nbconvert_exporter": "python",
   "pygments_lexer": "ipython3",
   "version": "3.12.4"
  }
 },
 "nbformat": 4,
 "nbformat_minor": 5
}
