{
 "cells": [
  {
   "cell_type": "code",
   "execution_count": 20,
   "id": "c1d8d701-b19c-43aa-b84c-d3e1d189345a",
   "metadata": {},
   "outputs": [],
   "source": [
    "s = \"      this is my first programming class and i am learning python string and its function      \""
   ]
  },
  {
   "cell_type": "code",
   "execution_count": 21,
   "id": "fd64ab9e-e72d-40ed-b82a-fa993728b0bf",
   "metadata": {},
   "outputs": [
    {
     "data": {
      "text/plain": [
       "'h   r oai a d  ai tntna sutn'"
      ]
     },
     "execution_count": 21,
     "metadata": {},
     "output_type": "execute_result"
    }
   ],
   "source": [
    "s[1:301:3]"
   ]
  },
  {
   "cell_type": "code",
   "execution_count": 22,
   "id": "36287ed8-9760-44f8-9189-21a78bc64049",
   "metadata": {},
   "outputs": [],
   "source": [
    "s1 = \"We are learning problem solving using computation\""
   ]
  },
  {
   "cell_type": "code",
   "execution_count": 23,
   "id": "5bb0e48c-c8cb-4f48-8a65-d6a994960226",
   "metadata": {},
   "outputs": [
    {
     "data": {
      "text/plain": [
       "'eea'"
      ]
     },
     "execution_count": 23,
     "metadata": {},
     "output_type": "execute_result"
    }
   ],
   "source": [
    "#Extract data from 1to 10 with jump of 4\n",
    "s1[1:11:4]"
   ]
  },
  {
   "cell_type": "code",
   "execution_count": 24,
   "id": "84175164-acf9-4e84-8250-bf1c1b4be6e4",
   "metadata": {},
   "outputs": [
    {
     "data": {
      "text/plain": [
       "'e are lear'"
      ]
     },
     "execution_count": 24,
     "metadata": {},
     "output_type": "execute_result"
    }
   ],
   "source": [
    "s1[1:11]"
   ]
  },
  {
   "cell_type": "code",
   "execution_count": 25,
   "id": "ffb7bede-acda-45c0-8a81-f85cb8694119",
   "metadata": {},
   "outputs": [
    {
     "data": {
      "text/plain": [
       "'eaela'"
      ]
     },
     "execution_count": 25,
     "metadata": {},
     "output_type": "execute_result"
    }
   ],
   "source": [
    "s1[1:11:2]"
   ]
  },
  {
   "cell_type": "markdown",
   "id": "d3282347-8f48-4a6d-8a0b-ed147620b923",
   "metadata": {},
   "source": [
    "# 1. Soha"
   ]
  },
  {
   "cell_type": "markdown",
   "id": "6ed079e5-8014-4b3a-818f-2298c52af4a7",
   "metadata": {},
   "source": [
    "# Sruja"
   ]
  },
  {
   "cell_type": "code",
   "execution_count": 26,
   "id": "e4c70ac5-7cfb-4a52-b9e4-cc04bdbafeda",
   "metadata": {},
   "outputs": [],
   "source": [
    "n = \"Soha Shaikh\""
   ]
  },
  {
   "cell_type": "code",
   "execution_count": 27,
   "id": "cd2bb1f8-f7e9-4fd3-b4b4-19f7ad24f74f",
   "metadata": {},
   "outputs": [
    {
     "data": {
      "text/plain": [
       "'oaSak'"
      ]
     },
     "execution_count": 27,
     "metadata": {},
     "output_type": "execute_result"
    }
   ],
   "source": [
    "n[1:13:2]"
   ]
  },
  {
   "cell_type": "code",
   "execution_count": 28,
   "id": "fbd91adb-9515-480b-a04f-0601c9e5c8e9",
   "metadata": {},
   "outputs": [
    {
     "data": {
      "text/plain": [
       "'oaSak'"
      ]
     },
     "execution_count": 28,
     "metadata": {},
     "output_type": "execute_result"
    }
   ],
   "source": [
    "n[1:14:2]"
   ]
  },
  {
   "cell_type": "code",
   "execution_count": 29,
   "id": "15b4d860-ce93-466f-ae52-5f1b106c8ab6",
   "metadata": {},
   "outputs": [],
   "source": [
    "n1 = \"Sruja Hardikar\""
   ]
  },
  {
   "cell_type": "code",
   "execution_count": 31,
   "id": "2b66a5c5-0e24-4b98-a8e4-af50c19bb44d",
   "metadata": {},
   "outputs": [
    {
     "data": {
      "text/plain": [
       "'rj adkr'"
      ]
     },
     "execution_count": 31,
     "metadata": {},
     "output_type": "execute_result"
    }
   ],
   "source": [
    "n1[1:14:2]"
   ]
  },
  {
   "cell_type": "code",
   "execution_count": 32,
   "id": "0f8a4c8b-f2f7-428c-9374-f0608b6c5517",
   "metadata": {},
   "outputs": [
    {
     "data": {
      "text/plain": [
       "'noitcnuf sti dna gnirts nohtyp gninrael ma i dna ssalc gnimmargorp tsrif ym si siht'"
      ]
     },
     "execution_count": 32,
     "metadata": {},
     "output_type": "execute_result"
    }
   ],
   "source": [
    "s[::-1]"
   ]
  },
  {
   "cell_type": "code",
   "execution_count": 44,
   "id": "44ba2be6-2877-409c-87cd-cd2a76889565",
   "metadata": {},
   "outputs": [
    {
     "data": {
      "text/plain": [
       "['THIS',\n",
       " 'IS',\n",
       " 'MY',\n",
       " 'FIRST',\n",
       " 'PROGRAMMING',\n",
       " 'CLASS',\n",
       " 'AND',\n",
       " 'I',\n",
       " 'AM',\n",
       " 'LEARNING',\n",
       " 'PYTHON',\n",
       " 'STRING',\n",
       " 'AND',\n",
       " 'ITS',\n",
       " 'FUNCTION']"
      ]
     },
     "execution_count": 44,
     "metadata": {},
     "output_type": "execute_result"
    }
   ],
   "source": [
    "s.upper().split()\n"
   ]
  },
  {
   "cell_type": "code",
   "execution_count": 37,
   "id": "4c506bf6-4fe4-43aa-9f00-217585a21d61",
   "metadata": {},
   "outputs": [
    {
     "data": {
      "text/plain": [
       "'This is my first programming class and i am learning python string and its function'"
      ]
     },
     "execution_count": 37,
     "metadata": {},
     "output_type": "execute_result"
    }
   ],
   "source": [
    "s.capitalize()"
   ]
  },
  {
   "cell_type": "code",
   "execution_count": 46,
   "id": "d7a77d3e-19b6-4f08-bac8-2d083666bfcc",
   "metadata": {},
   "outputs": [
    {
     "data": {
      "text/plain": [
       "['THIS',\n",
       " 'IS',\n",
       " 'MY',\n",
       " 'FIRST',\n",
       " 'PROGRAMMING',\n",
       " 'CLASS',\n",
       " 'AND',\n",
       " 'I',\n",
       " 'AM',\n",
       " 'LEARNING',\n",
       " 'PYTHON',\n",
       " 'STRING',\n",
       " 'AND',\n",
       " 'ITS',\n",
       " 'FUNCTION']"
      ]
     },
     "execution_count": 46,
     "metadata": {},
     "output_type": "execute_result"
    }
   ],
   "source": [
    "s.upper().split()"
   ]
  },
  {
   "cell_type": "code",
   "execution_count": 47,
   "id": "72e62e84-7a9f-4cb4-8ffb-66d8512024b7",
   "metadata": {},
   "outputs": [
    {
     "data": {
      "text/plain": [
       "'this is my first programming class and i am learning python string and its function'"
      ]
     },
     "execution_count": 47,
     "metadata": {},
     "output_type": "execute_result"
    }
   ],
   "source": [
    "s.lower()"
   ]
  },
  {
   "cell_type": "code",
   "execution_count": 48,
   "id": "423af7a5-e26a-4007-ae50-0abfbf921895",
   "metadata": {},
   "outputs": [
    {
     "data": {
      "text/plain": [
       "'This is my first programming class and i am learning python string and its function'"
      ]
     },
     "execution_count": 48,
     "metadata": {},
     "output_type": "execute_result"
    }
   ],
   "source": [
    "s.capitalize()"
   ]
  },
  {
   "cell_type": "code",
   "execution_count": 49,
   "id": "9dc5e8d2-d5cc-4954-9a06-6bbf297a3cb9",
   "metadata": {},
   "outputs": [
    {
     "data": {
      "text/plain": [
       "False"
      ]
     },
     "execution_count": 49,
     "metadata": {},
     "output_type": "execute_result"
    }
   ],
   "source": [
    "s.isalnum()"
   ]
  },
  {
   "cell_type": "code",
   "execution_count": 50,
   "id": "b13211c2-47eb-40c4-bae5-c44340efbaa5",
   "metadata": {},
   "outputs": [
    {
     "data": {
      "text/plain": [
       "False"
      ]
     },
     "execution_count": 50,
     "metadata": {},
     "output_type": "execute_result"
    }
   ],
   "source": [
    "s.isalpha()"
   ]
  },
  {
   "cell_type": "code",
   "execution_count": 53,
   "id": "0d233f70-b66b-4549-ad04-a09e610fdf39",
   "metadata": {},
   "outputs": [],
   "source": [
    "test = \"adcbgs\"\n",
    "test1 = \"132465\"\n",
    "test2 = \"gs4gfhs7656\""
   ]
  },
  {
   "cell_type": "code",
   "execution_count": 55,
   "id": "86ff7860-bb3e-4f5e-9066-fa462ae7331b",
   "metadata": {},
   "outputs": [
    {
     "data": {
      "text/plain": [
       "True"
      ]
     },
     "execution_count": 55,
     "metadata": {},
     "output_type": "execute_result"
    }
   ],
   "source": [
    "test.isalnum()\n"
   ]
  },
  {
   "cell_type": "code",
   "execution_count": 57,
   "id": "2047a018-998e-4e17-a49f-79d1466ff852",
   "metadata": {},
   "outputs": [
    {
     "data": {
      "text/plain": [
       "True"
      ]
     },
     "execution_count": 57,
     "metadata": {},
     "output_type": "execute_result"
    }
   ],
   "source": [
    "test1.isalnum()"
   ]
  },
  {
   "cell_type": "code",
   "execution_count": 58,
   "id": "507a5e26-57b5-46ec-9404-3ef2385d8792",
   "metadata": {},
   "outputs": [
    {
     "data": {
      "text/plain": [
       "True"
      ]
     },
     "execution_count": 58,
     "metadata": {},
     "output_type": "execute_result"
    }
   ],
   "source": [
    "test2.isalnum()"
   ]
  },
  {
   "cell_type": "code",
   "execution_count": 59,
   "id": "e2be5964-1be4-43a9-81a7-22a62b604c0b",
   "metadata": {},
   "outputs": [
    {
     "data": {
      "text/plain": [
       "True"
      ]
     },
     "execution_count": 59,
     "metadata": {},
     "output_type": "execute_result"
    }
   ],
   "source": [
    "test.isalpha()"
   ]
  },
  {
   "cell_type": "code",
   "execution_count": 60,
   "id": "4c79da3c-76f2-4dc4-9137-e398218fe0eb",
   "metadata": {},
   "outputs": [
    {
     "data": {
      "text/plain": [
       "False"
      ]
     },
     "execution_count": 60,
     "metadata": {},
     "output_type": "execute_result"
    }
   ],
   "source": [
    "test1.isalpha()"
   ]
  },
  {
   "cell_type": "code",
   "execution_count": 61,
   "id": "f0fc5d33-f06f-469b-9f31-b92b2700f887",
   "metadata": {},
   "outputs": [
    {
     "data": {
      "text/plain": [
       "False"
      ]
     },
     "execution_count": 61,
     "metadata": {},
     "output_type": "execute_result"
    }
   ],
   "source": [
    "test2.isalpha()"
   ]
  },
  {
   "cell_type": "code",
   "execution_count": 69,
   "id": "2755f079-c25a-485e-9e15-cf21c1db3588",
   "metadata": {},
   "outputs": [],
   "source": [
    "exp = \"This\\tis\\ta\\texample\""
   ]
  },
  {
   "cell_type": "code",
   "execution_count": 71,
   "id": "c9706956-5b51-4857-b80c-0a38da64df55",
   "metadata": {},
   "outputs": [
    {
     "data": {
      "text/plain": [
       "'This    is      a       example'"
      ]
     },
     "execution_count": 71,
     "metadata": {},
     "output_type": "execute_result"
    }
   ],
   "source": [
    "exp.expandtabs()"
   ]
  },
  {
   "cell_type": "code",
   "execution_count": 72,
   "id": "71b29656-d978-4513-935f-7a7e702081e7",
   "metadata": {},
   "outputs": [
    {
     "data": {
      "text/plain": [
       "'This  is  a example'"
      ]
     },
     "execution_count": 72,
     "metadata": {},
     "output_type": "execute_result"
    }
   ],
   "source": [
    "exp.expandtabs(2)"
   ]
  },
  {
   "cell_type": "code",
   "execution_count": 74,
   "id": "cb24215f-25bc-42a6-b5c5-9281f0a9c79e",
   "metadata": {},
   "outputs": [
    {
     "data": {
      "text/plain": [
       "'this is my first programming class and i am learning python string and its function'"
      ]
     },
     "execution_count": 74,
     "metadata": {},
     "output_type": "execute_result"
    }
   ],
   "source": [
    "s.strip()"
   ]
  },
  {
   "cell_type": "code",
   "execution_count": 76,
   "id": "8e036c09-6856-45bf-aa41-5d8ea0494eee",
   "metadata": {},
   "outputs": [
    {
     "data": {
      "text/plain": [
       "'this is my first programming class and i am learning python string and its function'"
      ]
     },
     "execution_count": 76,
     "metadata": {},
     "output_type": "execute_result"
    }
   ],
   "source": [
    "s.lstrip()"
   ]
  },
  {
   "cell_type": "code",
   "execution_count": 77,
   "id": "e241740e-e5eb-4b7f-8cfd-a2eb633bec18",
   "metadata": {},
   "outputs": [
    {
     "data": {
      "text/plain": [
       "'this is my first programming class and i am learning python string and its function'"
      ]
     },
     "execution_count": 77,
     "metadata": {},
     "output_type": "execute_result"
    }
   ],
   "source": [
    "s.rstrip()"
   ]
  },
  {
   "cell_type": "code",
   "execution_count": 89,
   "id": "677b3cc0-626f-4d2a-b7f4-16422abb1c9b",
   "metadata": {},
   "outputs": [],
   "source": [
    "i = \"@@@sruja!soha!@@\""
   ]
  },
  {
   "cell_type": "code",
   "execution_count": 90,
   "id": "9038469c-0de2-4c4f-b461-9aaf5f9e56f4",
   "metadata": {},
   "outputs": [
    {
     "data": {
      "text/plain": [
       "'sruja!soha!'"
      ]
     },
     "execution_count": 90,
     "metadata": {},
     "output_type": "execute_result"
    }
   ],
   "source": [
    "i.strip(\"@\")"
   ]
  },
  {
   "cell_type": "code",
   "execution_count": 93,
   "id": "57973b38-2126-4da7-9ff7-39d2b6624dff",
   "metadata": {},
   "outputs": [
    {
     "data": {
      "text/plain": [
       "'sruja!soha!'"
      ]
     },
     "execution_count": 93,
     "metadata": {},
     "output_type": "execute_result"
    }
   ],
   "source": [
    "i.lstrip(\"@\").rstrip(\"@\")\n"
   ]
  },
  {
   "cell_type": "code",
   "execution_count": null,
   "id": "6e3fc15e-f3dc-4331-af0f-4e86ff3fb13c",
   "metadata": {},
   "outputs": [],
   "source": []
  }
 ],
 "metadata": {
  "kernelspec": {
   "display_name": "Python 3 (ipykernel)",
   "language": "python",
   "name": "python3"
  },
  "language_info": {
   "codemirror_mode": {
    "name": "ipython",
    "version": 3
   },
   "file_extension": ".py",
   "mimetype": "text/x-python",
   "name": "python",
   "nbconvert_exporter": "python",
   "pygments_lexer": "ipython3",
   "version": "3.12.4"
  }
 },
 "nbformat": 4,
 "nbformat_minor": 5
}
